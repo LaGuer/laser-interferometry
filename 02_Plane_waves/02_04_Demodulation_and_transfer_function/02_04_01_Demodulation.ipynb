{
 "cells": [
  {
   "cell_type": "markdown",
   "metadata": {},
   "source": [
    "# 5. Demodulation"
   ]
  },
  {
   "cell_type": "code",
   "execution_count": 1,
   "metadata": {
    "collapsed": false
   },
   "outputs": [
    {
     "name": "stdout",
     "output_type": "stream",
     "text": [
      "                                              ..-\n",
      "    PyKat 0.8.3           _                  '(\n",
      "                          \\`.|\\.__...-\"\"\"\"-_.\" )\n",
      "       ..+-----.._        /  ' `            .-'\n",
      "   . '            `:      7/* _/._\\    \\   (\n",
      "  (        '::;;+;;:      `-\"' =\" /,`\"\" `) /\n",
      "  L.        \\`:::a:f            c_/     n_'\n",
      "  ..`--...___`.  .    ,  \n",
      "   `^-....____:   +.      www.gwoptics.org/pykat\n",
      "\n",
      "Imported matplotlib.pyplot as plt\n",
      "Imported numpy as np\n"
     ]
    },
    {
     "data": {
      "text/html": [
       "\n",
       "<style>\n",
       "div.html_cell_render{\n",
       "}\n",
       "\t\t\n",
       ".rendered_html pre,\n",
       ".rendered_html code {\n",
       "}\n",
       "\n",
       "div.text_cell_render {\n",
       "font-family: \"Helvetica Neue\", Arial, Helvetica, Geneva, sans-serif;\n",
       "/*font-family: \"Charis SIL\", serif;  Make non-code text serif. */\n",
       "line-height: 145%; /* added for some line spacing of text. */\n",
       "width: 105ex; /* instead of 'inherit' for shorter lines */\n",
       "font-size: 12pt;\n",
       "}\n",
       "\n",
       "div.text_cell_render h1,\n",
       "div.text_cell_render h2,\n",
       "div.text_cell_render h3,\n",
       "div.text_cell_render h4,\n",
       "div.text_cell_render h5,\n",
       "div.text_cell_render h6 {\n",
       "/*    font-family: 'Kameron';*/\n",
       "    font-weight: 300;\n",
       "}\n",
       "\n",
       "div.text_cell_render h1 {\n",
       "    font-size: 24pt;\n",
       "}\n",
       "\n",
       "div.text_cell_render h2 {\n",
       "    font-size: 18pt;\n",
       "}\n",
       "\n",
       "div.text_cell_render h3 {\n",
       "    font-size: 14pt;\n",
       "}\n",
       "\n",
       ".rendered_html pre,\n",
       ".rendered_html code {\n",
       "    font-size: medium;\n",
       "}\n",
       "\n",
       ".rendered_html ol {\n",
       "    list-style:decimal;\n",
       "    margin: 1em 2em;\n",
       "}\n",
       "\n",
       "\n",
       "div.cell.code_cell {\n",
       "}\n",
       "</style>\n"
      ],
      "text/plain": [
       "<IPython.core.display.HTML object>"
      ]
     },
     "metadata": {},
     "output_type": "display_data"
    },
    {
     "name": "stdout",
     "output_type": "stream",
     "text": [
      "You can now use 'show_finesse(kat)' to display the Finesse code of a 'kat' object\n"
     ]
    }
   ],
   "source": [
    "%run pykat_notebook_defaults.py\n",
    "pykat.init_pykat_plotting(dpi=90)"
   ]
  },
  {
   "cell_type": "markdown",
   "metadata": {},
   "source": [
    "To extract information about the modulation mechanism, we use a technique called de-modulation. This can be done by using an electronic mixer and a low pass filter. Mathematically, the mixer multiplies the signal with a local oscillator, and the low pass filter filters out all nonzero frequencies. Lets go back to the field we create by the moving mirror, but we also need to assume that the phase modulation partly has been converted into amplitude modulation, for example by a Michelson. The field is described by\n",
    "\n",
    "\\begin{align}\n",
    "E(t) = a_0 \\mathrm{e}^{\\omega_0 t} + a_-\\mathrm{e}^{\\omega_- t} + a_+ \\mathrm{e}^{\\omega_+ t},\n",
    "\\end{align}"
   ]
  },
  {
   "cell_type": "markdown",
   "metadata": {},
   "source": [
    "where $\\omega_\\pm = \\omega_0 \\pm \\Omega$, and $\\Omega$ is the frequency of the mirror motion. The power seen by a photodiode at the reference plane would be\n",
    "\n",
    "\\begin{align}\n",
    "S_0 = E(t) E^*(t) = \\sum_j \\sum_k a_j a_k^* \\mathrm{e}^{i(\\omega_j - \\omega_k)t} ,\n",
    "\\end{align}\n"
   ]
  },
  {
   "cell_type": "markdown",
   "metadata": {},
   "source": [
    "where the summations are over the three frequency components labeled by $0$, $-$, and $+$. By multiplying with a sinusoidal local oscillator with frequency $\\omega_x$ and phase $\\varphi_x$ we obtain\n",
    "\n",
    "\\begin{align}\n",
    "S_1 &= \\cos(\\omega_x t + \\varphi_x) S_0  \\\\ \n",
    "    &= \\frac{1}{2}\\Big(\\mathrm{e}^{i(\\omega_x t+\\varphi_x)} + \\mathrm{e}^{-i(\\omega_x t+\\varphi_x)} \\Big) \\sum_j \\sum_k a_j a_k^* \\mathrm{e}^{i(\\omega_j - \\omega_k)t} \\\\\n",
    "    &= \\frac{1}{2} \\sum_j \\sum_k a_j a_k^* \\Big[ \\mathrm{e}^{i\\left( (\\omega_j-\\omega_k + \\omega_x)t + \\varphi_x \\right)} + \\mathrm{e}^{i\\left( (\\omega_j-\\omega_k - \\omega_x)t - \\varphi_x \\right)} \\Big] .\n",
    "\\end{align}"
   ]
  },
  {
   "cell_type": "markdown",
   "metadata": {},
   "source": [
    "If we set the de-modulation frequency to be the same as the modulation frequency, i.e. $\\omega_x = \\Omega$, the DC part becomes\n",
    "\n",
    "\\begin{align}\n",
    "S_{1,DC} &= \\frac{1}{2} \\Big[ a_0 a_{-}^* \\mathrm{e}^{-i\\varphi_x} + a_0^* a_- \\mathrm{e}^{i\\varphi_x} + a_0 a_{+}^* \\mathrm{e}^{i\\varphi_x} + a_0^* a_+ \\mathrm{e}^{-i\\varphi_x}\\Big] \\\\\n",
    "         &= \\mathcal{Re} \\Big\\{ a_0a_-^*\\mathrm{e}^{-i\\varphi_x} + a_0^* a_+ \\mathrm{e}^{-i\\varphi_x} \\Big\\}\n",
    "\\end{align}"
   ]
  },
  {
   "cell_type": "markdown",
   "metadata": {},
   "source": [
    "We see that we can use the de-modulation phase $\\varphi_x$ to optimise the output. Or we can use two mixers: one with $\\varphi_x = 0$ and one with $\\varphi_x=\\pi/2$ to extract the full phase and amplitude information of our sidebands. By doing this we could obtain\n",
    "​\n",
    "\\begin{align}\n",
    "S_{1,DC} = a_0a_-^* + a_0^* a_+.\n",
    "\\end{align}"
   ]
  },
  {
   "cell_type": "markdown",
   "metadata": {},
   "source": [
    "Thus, we have the amplitude and phase information of the the beat signal! If we know our system, we can then trace this back to get information about the mechanism that created the origianl phase modulation."
   ]
  },
  {
   "cell_type": "markdown",
   "metadata": {},
   "source": [
    "### Finesse example: electro-optic modulator and demodulation\n",
    "In this Finesse example a carrier field is modulated by using an electro-optic modulator (EOM) (keyword `mod`). The power is measured by a photodiode, and this power signal is demodulated by using three different demodulation phases: one detector with $\\varphi_x = 0$, another with $\\varphi = 90$ degrees, and a third with the optimal demodulation phase, here $\\varphi_x = 20$ degrees.  While doing this, we are varying the modulation index of the EOM."
   ]
  },
  {
   "cell_type": "code",
   "execution_count": 2,
   "metadata": {
    "collapsed": true
   },
   "outputs": [],
   "source": [
    "kat = finesse.kat()          # Initialising Finesse\n",
    "kat.verbose = False          # Tells Finesse to talk less\n",
    "\n",
    "code = \"\"\"\n",
    "## The optical system ##\n",
    "l laser 1 0 n0                # Laser with 0 offset wavelength (thus default 1064nm used)\n",
    "s s1 1 n0 n1                  # Space from laser to mirror (1 m)\n",
    "mod eom 1k 0.3 2 am 20 n1 n2  # Modulator (f=1 kHz, m=0.3, 2 sideband pairs, amplitude modulation, phase=20 degrees)\n",
    "s s2 1 n2 n3                  # Space from modulator to output (1 m)\n",
    "\n",
    "## Detectors ##\n",
    "pd dc n3                # Photodiode and a low pass filter\n",
    "pd1 inphase 1k 0 n3     # Photodiode, mixer and low pass filter (demod f = 1kHz, demod phase = 0)\n",
    "pd1 quad 1k 90 n3       # Photodiode, mixer and low pass filter (demod f = 1kHz, demod phase = 90 degrees)\n",
    "pd1 max 1k max n3       # Photodiode, mixer and low pass filter (demod f = 1kHz, demod phase = optimised (max) )\n",
    "\n",
    "## Instructions ##\n",
    "xaxis eom midx lin 0 1 200   # Varying the modulation index of the modulator between 0 and 1.\n",
    "yaxis abs                # Allowing outputs to be complex numbers\n",
    "\"\"\"\n",
    "\n",
    "# Parsing the code and running the simulation\n",
    "kat.parseCommands(code)\n",
    "out = kat.run()"
   ]
  },
  {
   "cell_type": "code",
   "execution_count": 3,
   "metadata": {
    "collapsed": false
   },
   "outputs": [
    {
     "data": {
      "image/png": "[encoded data removed]",
      "text/plain": [
       "<matplotlib.figure.Figure at 0x1121c9ac8>"
      ]
     },
     "metadata": {},
     "output_type": "display_data"
    }
   ],
   "source": [
    "# Reconstructing full amplitude and phase information\n",
    "tot = out['inphase'] + 1j*out['quad']\n",
    "\n",
    "## Plotting ##\n",
    "\n",
    "fig = pykat.plotting.figure(textwidth=12, height=0.3)\n",
    "ax = plt.subplot(1,2,1)\n",
    "ax.plot(out.x, out['inphase'], label='In phase')\n",
    "ax.plot(out.x, out['quad'], label='Quadrature')\n",
    "ax.plot(out.x, out['max'], label='Optimised')\n",
    "ax.plot(out.x, np.abs(tot), '--k', label='Reconstructed')\n",
    "ax.set_xlabel('Modulation index')\n",
    "ax.set_ylabel('Power [W]')\n",
    "ax.set_title('Demodulated power', size=11)\n",
    "ax.legend(loc=0, fontsize=10)\n",
    "\n",
    "ax = plt.subplot(1,2,2)\n",
    "ax.plot(out.x, out['dc'],label='DC power')\n",
    "\n",
    "ax.set_xlabel('Modulation index')\n",
    "ax.set_ylabel('Power [W]')\n",
    "ax.set_title('DC power', size=11)\n",
    "ax.legend(loc=0, fontsize=10)\n",
    "\n",
    "plt.show()"
   ]
  },
  {
   "cell_type": "markdown",
   "metadata": {},
   "source": [
    "<font size=\"2\">**Figure.** The left figure shows three traces with different demodulation phases $\\varphi_x$. The one called in phase has $\\varphi_x = 0$ and the one called quadrature has $\\varphi_x = \\pi/2~ (=90~\\mathrm{degrees})$. For the trace called optimise we used the keywordb `max`, which tells Finesse to use the demodulation phase that yields the largest output. In this case this is obtained with $\\varphi_x = 20$ degrees. We also show that the optimised result can be reconstucted by using two 'in phase' and 'quadrature'. The right figure shows that the DC power drops with increased modulation index, which is consistent with energy going from the carrier field into the sidebands, which gives rise to the oscilating beat signal.</font>"
   ]
  },
  {
   "cell_type": "markdown",
   "metadata": {},
   "source": [
    "In this example we see that we can use demodulation to reconstruct the amplitude of the beat signal by combining the result obtained by two different demdulation phases that shifted 90 degrees compared to each other. In Finesse, we can also cheat and set the demodulation phase to `max`, which gives the same result. In the right figure we see that the DC power drops as the modulation index increases, i.e., more and more of the energy goes into the beat signal. \n",
    "\n",
    "You can try to change the amplitude modulation into phase modulation and see what happens. This can be done by changing the `EOM` paramter `am` into `phase`."
   ]
  },
  {
   "cell_type": "markdown",
   "metadata": {},
   "source": [
    "**Summary:** Demodulation can be used to extract the amplitude and phase of a 'beat' present in a power signal. In gravitational wave detectors, modulation-demodulation schemes are used for sensing the cavity lengths."
   ]
  },
  {
   "cell_type": "code",
   "execution_count": null,
   "metadata": {
    "collapsed": true
   },
   "outputs": [],
   "source": []
  }
 ],
 "metadata": {
  "kernelspec": {
   "display_name": "Python 3",
   "language": "python",
   "name": "python3"
  },
  "language_info": {
   "codemirror_mode": {
    "name": "ipython",
    "version": 3
   },
   "file_extension": ".py",
   "mimetype": "text/x-python",
   "name": "python",
   "nbconvert_exporter": "python",
   "pygments_lexer": "ipython3",
   "version": "3.4.3"
  }
 },
 "nbformat": 4,
 "nbformat_minor": 0
}
