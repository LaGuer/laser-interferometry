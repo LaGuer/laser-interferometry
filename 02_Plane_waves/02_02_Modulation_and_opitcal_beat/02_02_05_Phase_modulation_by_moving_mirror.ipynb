{
 "cells": [
  {
   "cell_type": "markdown",
   "metadata": {},
   "source": [
    "# 3. Phase modulation by a moving mirror"
   ]
  },
  {
   "cell_type": "code",
   "execution_count": 2,
   "metadata": {
    "collapsed": false
   },
   "outputs": [
    {
     "name": "stdout",
     "output_type": "stream",
     "text": [
      "                                              ..-\n",
      "    PyKat 0.8.3           _                  '(\n",
      "                          \\`.|\\.__...-\"\"\"\"-_.\" )\n",
      "       ..+-----.._        /  ' `            .-'\n",
      "   . '            `:      7/* _/._\\    \\   (\n",
      "  (        '::;;+;;:      `-\"' =\" /,`\"\" `) /\n",
      "  L.        \\`:::a:f            c_/     n_'\n",
      "  ..`--...___`.  .    ,  \n",
      "   `^-....____:   +.      www.gwoptics.org/pykat\n",
      "\n",
      "Imported matplotlib.pyplot as plt\n",
      "Imported numpy as np\n"
     ]
    },
    {
     "data": {
      "text/html": [
       "\n",
       "<style>\n",
       "div.html_cell_render{\n",
       "}\n",
       "\t\t\n",
       ".rendered_html pre,\n",
       ".rendered_html code {\n",
       "}\n",
       "\n",
       "div.text_cell_render {\n",
       "font-family: \"Helvetica Neue\", Arial, Helvetica, Geneva, sans-serif;\n",
       "/*font-family: \"Charis SIL\", serif;  Make non-code text serif. */\n",
       "line-height: 145%; /* added for some line spacing of text. */\n",
       "width: 105ex; /* instead of 'inherit' for shorter lines */\n",
       "font-size: 12pt;\n",
       "}\n",
       "\n",
       "div.text_cell_render h1,\n",
       "div.text_cell_render h2,\n",
       "div.text_cell_render h3,\n",
       "div.text_cell_render h4,\n",
       "div.text_cell_render h5,\n",
       "div.text_cell_render h6 {\n",
       "/*    font-family: 'Kameron';*/\n",
       "    font-weight: 300;\n",
       "}\n",
       "\n",
       "div.text_cell_render h1 {\n",
       "    font-size: 24pt;\n",
       "}\n",
       "\n",
       "div.text_cell_render h2 {\n",
       "    font-size: 18pt;\n",
       "}\n",
       "\n",
       "div.text_cell_render h3 {\n",
       "    font-size: 14pt;\n",
       "}\n",
       "\n",
       ".rendered_html pre,\n",
       ".rendered_html code {\n",
       "    font-size: medium;\n",
       "}\n",
       "\n",
       ".rendered_html ol {\n",
       "    list-style:decimal;\n",
       "    margin: 1em 2em;\n",
       "}\n",
       "\n",
       "\n",
       "div.cell.code_cell {\n",
       "}\n",
       "</style>\n"
      ],
      "text/plain": [
       "<IPython.core.display.HTML object>"
      ]
     },
     "metadata": {},
     "output_type": "display_data"
    },
    {
     "name": "stdout",
     "output_type": "stream",
     "text": [
      "You can now use 'show_finesse(kat)' to display the Finesse code of a 'kat' object\n"
     ]
    }
   ],
   "source": [
    "%run pykat_notebook_defaults.py\n",
    "pykat.init_pykat_plotting(dpi=90)"
   ]
  },
  {
   "cell_type": "markdown",
   "metadata": {},
   "source": [
    "In this section we go through what happens to a laser field that is reflected by a moving mirror. This basically explains how the laser field responds to gravitational waves even though, in that case, it is the length of the space itself that is oscillating. However, as long as the period time of the gravitational wave is much smaller than the time the laser beam spends in the arms of a simple Michelson, the result is the same."
   ]
  },
  {
   "cell_type": "markdown",
   "metadata": {},
   "source": [
    "<img src=\"mirror_modulation.svg\" width=200 height=400/>"
   ]
  },
  {
   "cell_type": "markdown",
   "metadata": {},
   "source": [
    "**Figure.** The figure depicts a moving mirror that has a static offset from a reference plane, as well as two laser beams: one propagating towards the mirror and one returning after having been reflected by the mirror."
   ]
  },
  {
   "cell_type": "markdown",
   "metadata": {},
   "source": [
    "The figure above shows a mirror that has a position determined by two terms: a static offset $\\delta x$ and a time dependent|term $x_s(t)$. Thus, the positon relative to the reference plane can be written as\n",
    "\n",
    "\\begin{align}\n",
    "x(t) = \\delta x + x_s(t).\n",
    "\\end{align}"
   ]
  },
  {
   "cell_type": "markdown",
   "metadata": {},
   "source": [
    "Further, we let the mirror motion be harmonic, with frequency, amplitude, and phase given by $a_s$, $\\Omega_s$ and $\\varphi_s$, respectively. Thus the time dependent term can be written\n",
    "\n",
    "\\begin{align}\n",
    "x_s(t) = a_s \\cos(\\Omega_s t + \\varphi_s).\n",
    "\\end{align}"
   ]
  },
  {
   "cell_type": "markdown",
   "metadata": {},
   "source": [
    "A plane wave entering the reference plane can be described by $E_1(t) = E_0 \\exp(i\\omega_0 t)$, where $E_0$ is the complex amplitude and $\\omega_0$ is the frequency of the carrier field. Then the field returning back from the mirror is given by\n",
    "\n",
    "\\begin{align}\n",
    "E_2(t) =& E_1(t) \\exp\\big(-2ikx(t)\\big) \\\\\n",
    "=& E_1(t) \\exp (-2ik\\delta x) \\exp\\big[-2ik a_s \\cos(\\Omega t + \\varphi_s) \\big],\n",
    "\\end{align}"
   ]
  },
  {
   "cell_type": "markdown",
   "metadata": {},
   "source": [
    "where we have assumed that the mirror has a reflectivity of one, and no phase shift occurs on reflection. The laser field now got two new phase factors: one due to the static offset, which we call **tuning**, and one due to the moving mirror which gives rise to an oscillating phase which yields the **phase modulation**. By using the identity\n",
    "\n",
    "\\begin{align}\n",
    "\\exp\\big(iz\\cos\\varphi \\big) = \\sum_{n=-\\infty}^{\\infty} i^n J_n(z) \\exp(in\\varphi),\n",
    "\\end{align}"
   ]
  },
  {
   "cell_type": "markdown",
   "metadata": {},
   "source": [
    "where $J_n(z)$ are Bessel functions of the first kind, we can write $E_2(t)$ as\n",
    "\n",
    "\\begin{align}\n",
    "E_2(t) = E_1(t) \\exp (2i\\phi) \\sum_{n=-\\infty}^{\\infty} i^n J_n(-2k a_s) \\exp\\big( ni(\\Omega t + \\varphi_s) \\big),\n",
    "\\end{align}"
   ]
  },
  {
   "cell_type": "markdown",
   "metadata": {},
   "source": [
    "where $\\phi = -k\\delta x$ is the phase due to the static tuning. In the sum, the term with $n=0$ will leave the frequency of the carrier unchanged. The other terms shift the the frequeny with $n\\Omega$: these frequency components are called **sidebands** (of the carrier), where those with $n<0$ are called **lower sidebands** and those with $n>0$ are called **upper sidebands**. Since $m = -2ka_s \\approx 10^{-11}$ ($k \\approx 5.9 \\times 10^{6}$ $\\mathrm{m}^{-1}$ and $a_s < 10^{-18}$ $\\mathrm{m}$ for LIGO), we can safely say that $|m| << 1$, which allows us to approximate the Bessel functions as\n",
    "\n",
    "\\begin{align}\n",
    "&J_0(m) = 1 - \\frac{m^2}{4} + \\mathcal{O}(m^4) \\\\\n",
    "&J_{\\pm 1} (m) = \\pm \\frac{m}{2} + \\mathcal{O}(m^3) \\\\\n",
    "&J_{\\pm n}(m) = 0 + \\mathcal{O}(m^n), \\quad n>1 .\n",
    "\\end{align}"
   ]
  },
  {
   "cell_type": "markdown",
   "metadata": {},
   "source": [
    "Hence, we only need to keep the first pair of sidebands, and only terms up to first order in $m$. However, to formally see that amplitude is taken from the carrier to create the sidebands, we temporarliy keep the second order term for $J_0(m)$. The returning field can now be written as\n",
    "\n",
    "\\begin{align}\n",
    "E_2(t) &= E_1(t) \\exp (-2ik\\delta x) \\Big[ 1 - \\frac{m^2}{4} + i \\frac{m}{2}\\Big( \\exp\\big( -i(\\Omega t + \\varphi_s)\\big) + \\exp\\big( i(\\Omega t + \\varphi_s)\\big) \\Big) \\Big] \\\\\n",
    "       &= a_0 \\mathrm{e}^{i\\omega_0 t} + a_- \\mathrm{e}^{i\\omega_- t} + a_+ \\mathrm{e}^{i \\omega_+ t} ,\n",
    "\\end{align}"
   ]
  },
  {
   "cell_type": "markdown",
   "metadata": {},
   "source": [
    "where in the second line $\\omega_\\pm = \\omega_0 \\pm \\Omega$, and all phase factors have been absorbed into the complex amplitudes $a_0$, $a_-$ and $a_+$."
   ]
  },
  {
   "cell_type": "markdown",
   "metadata": {},
   "source": [
    "### Finesse example: creating sidebands by shaking a mirror"
   ]
  },
  {
   "cell_type": "code",
   "execution_count": 3,
   "metadata": {
    "collapsed": false
   },
   "outputs": [
    {
     "data": {
      "image/png": "[encoded data removed]",
      "text/plain": [
       "<matplotlib.figure.Figure at 0x10c0c2f28>"
      ]
     },
     "metadata": {},
     "output_type": "display_data"
    },
    {
     "data": {
      "image/png": "[encoded data removed]",
      "text/plain": [
       "<matplotlib.figure.Figure at 0x10c1e4630>"
      ]
     },
     "metadata": {},
     "output_type": "display_data"
    }
   ],
   "source": [
    "kat = finesse.kat()          # Initialising Finesse\n",
    "kat.verbose = False          # Tells Finesse to talk less\n",
    "\n",
    "# Parsing the code\n",
    "kat.parseCommands(\"\"\"\n",
    "l laser 1 0 n0          # Laser with 0 offset wavelength (thus default 1064nm used)\n",
    "s s1 1 n0 n1            # Space from laser to mirror (1 m)\n",
    "m M1 1 0 0 n1 n2        # Mirror (ref=1, trans=0, tuning=0)\n",
    "fsig sig1 M1 100 0 .3   # Shaking the mirror (freq = 100 Hz, phase = 0, amplitude = .3)\n",
    "\n",
    "## Detectors ##\n",
    "ad upper 100 n1         # Measuring amplitude of wawe with freq = 100 Hz (+ carrier freq)\n",
    "ad lower -100 n1        # Measuring amplitude of wawe with freq = -100 Hz (+ carrier freq)\n",
    "\"\"\")\n",
    "\n",
    "# Run 1:\n",
    "# -------\n",
    "# Sweeping the amplitude of the mirror motion\n",
    "# Parsing the code and running the simulation\n",
    "kat1 = deepcopy(kat)\n",
    "kat1.parseCommands(\"\"\"\n",
    "xaxis sig1 amp lin 0.01 2 500   \n",
    "\"\"\")\n",
    "out1 = kat1.run()\n",
    "\n",
    "# Run 2:\n",
    "# -------\n",
    "# Sweeping the frequency of the amplitude detector\n",
    "# Parsing the code and running the simulation\n",
    "kat2 = deepcopy(kat)\n",
    "kat2.parseCommands(\"\"\"\n",
    "xaxis upper f lin -300 300 600   \n",
    "\"\"\")\n",
    "out2 = kat2.run()\n",
    "\n",
    "## Plotting ##\n",
    "# -------------\n",
    "fig = out1.plot(styles={'upper':'--r', 'lower': '-b'},\n",
    "                xlabel='Mirror motion amplitude',\n",
    "                ylabel='Laser field amplitude [$\\sqrt{W}$]',\n",
    "                title='Run 1')\n",
    "\n",
    "fig = out2.plot(detectors=[\"upper\"],\n",
    "                xlabel='Mirror motion amplitude',\n",
    "                ylabel='Laser field amplitude [$\\sqrt{W}$]',\n",
    "                title='Run 2')"
   ]
  },
  {
   "cell_type": "markdown",
   "metadata": {},
   "source": [
    "<font size=\"2\">**Figure.** The left figure shows the amplitude of the two first order sidebands as a function of the modulation index. The mirror is shaken at a frequency of 100 Hz. The right figure shows a histogram over the frequency components present in the laser field reflected by the moving mirror. </font>"
   ]
  },
  {
   "cell_type": "markdown",
   "metadata": {},
   "source": [
    "The example shows that the amplitude of the first sideband pair increases with increasing amplitude of the mirror motion, as seen in the left figure above. The right figure shows the amplitudes of the carrier and the two sidebands when a modulation index of $m = 0.3$ is used. **Important remark:** Note that we have an input carrier field of 1 W, but sideband powers that exceed this. With other words, **do not use `fsig` in tis way** if you want physically relevant plots! This example was just to illustrate that new frequency components are created by the moving mirror. And that the mirror motion can be injected by using the command `fsig`. However, `fsig` is designed to be used when computing transfer functions, that is, the modulation index is infinitesimal so that we are in the linear regime. Examples of how `fsig` should be used follow later."
   ]
  },
  {
   "cell_type": "markdown",
   "metadata": {},
   "source": [
    "**Summary:** We have **phase modulated** the field by using a moving mirror, and shown that this can be viewed as creating **sideband pairs** around the carrier frecuency, spaced by integer multiples of the modulation frequency. For a small modulation index, meaning a small mirror motion compared to the carrier wavelength, only very few sidebands need to be considered. "
   ]
  },
  {
   "cell_type": "code",
   "execution_count": null,
   "metadata": {
    "collapsed": true
   },
   "outputs": [],
   "source": []
  }
 ],
 "metadata": {
  "kernelspec": {
   "display_name": "Python 3",
   "language": "python",
   "name": "python3"
  },
  "language_info": {
   "codemirror_mode": {
    "name": "ipython",
    "version": 3
   },
   "file_extension": ".py",
   "mimetype": "text/x-python",
   "name": "python",
   "nbconvert_exporter": "python",
   "pygments_lexer": "ipython3",
   "version": "3.4.3"
  }
 },
 "nbformat": 4,
 "nbformat_minor": 0
}
