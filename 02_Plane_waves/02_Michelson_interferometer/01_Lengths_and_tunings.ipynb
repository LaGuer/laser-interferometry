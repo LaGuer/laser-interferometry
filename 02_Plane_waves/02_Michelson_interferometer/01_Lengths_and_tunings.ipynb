{
 "cells": [
  {
   "cell_type": "markdown",
   "metadata": {},
   "source": [
    "# <span style=\"color:#1111AA\"> Michelson interferometer: Lengths and Tunings </span>"
   ]
  },
  {
   "cell_type": "markdown",
   "metadata": {},
   "source": [
    "# Table of content"
   ]
  },
  {
   "cell_type": "markdown",
   "metadata": {},
   "source": []
  },
  {
   "cell_type": "markdown",
   "metadata": {},
   "source": [
    "# 1.  Overview"
   ]
  },
  {
   "cell_type": "markdown",
   "metadata": {},
   "source": [
    "## 1.1. Introduction"
   ]
  },
  {
   "cell_type": "markdown",
   "metadata": {},
   "source": [
    "The aim of this session is to build a model of a Michelson interferometer, and investigate how its output depends on the macrospical lengths and microscopical tunings of its arms. The Michelson interferometer is the core of the interferometric GW detectors such as LIGO, Virgo, GEO and KAGRA."
   ]
  },
  {
   "cell_type": "markdown",
   "metadata": {},
   "source": [
    "## 1.2. Prerequisites and reading material"
   ]
  },
  {
   "cell_type": "markdown",
   "metadata": {},
   "source": [
    "We recommend that you have done the following notebooks before starting this one:\n",
    "* [01_01_01_Ipython_notebook](../../01_Introduction/01_01_Ipython_notebook)\n",
    "* [01_02_01_Pykat](../../01_Introduction/01_02_Pykat/01_02_01_Pykat.ipynb)\n",
    "* [01_03_01_Finesse](../../01_Introduction/01_03_Finesse/01_03_01_Finesse.ipynb)\n",
    "\n",
    "or have corresponding basic experience of Ipython notebooks, PyKat, and Finesse. The links above only works if you started ipython notebook in the top directory of this course.\n",
    "\n",
    "**Reading material and references:**\n",
    "\n",
    "[1] [A. Freise, K. Strain, D. Brown, and C. Bond, \"Interferometer Techniques for Gravitational-Wave Detection\", *Living Reviews in Relativity* **13**, 1 (2010)](http://arxiv.org/pdf/0909.3661v3).\n",
    "\n",
    "[2] [A. Freise, D. Brown, and C. Bond, \"Finesse, Frequency domain INterferomEter Simulation SoftwarE\"](http://kvasir.sr.bham.ac.uk/redmine/attachments/download/131/Finesse_2.0_manual.pdf).\n",
    "\n",
    "[3] [FINESSE syntax reference](http://www.gwoptics.org/finesse/reference/)"
   ]
  },
  {
   "cell_type": "markdown",
   "metadata": {},
   "source": [
    "## 1.3. After this session you will be able to..."
   ]
  },
  {
   "cell_type": "markdown",
   "metadata": {},
   "source": [
    "**After this session you will be able to**:\n",
    "  * build a FINESSE-model of a Michelson interferometer.\n",
    "  * calibrate the operating point of the FINESSE-model."
   ]
  },
  {
   "cell_type": "markdown",
   "metadata": {},
   "source": [
    "# 2.  Modelling a Michelson Interferometer using FINESSE"
   ]
  },
  {
   "cell_type": "markdown",
   "metadata": {},
   "source": [
    "## 2.1. Importing packages"
   ]
  },
  {
   "cell_type": "markdown",
   "metadata": {},
   "source": [
    "We start by loading some necessary packages:"
   ]
  },
  {
   "cell_type": "code",
   "execution_count": 1,
   "metadata": {
    "collapsed": false
   },
   "outputs": [
    {
     "name": "stdout",
     "output_type": "stream",
     "text": [
      "                                              ..-\n",
      "    PyKat 0.8.8           _                  '(\n",
      "                          \\`.|\\.__...-\"\"\"\"-_.\" )\n",
      "       ..+-----.._        /  ' `            .-'\n",
      "   . '            `:      7/* _/._\\    \\   (\n",
      "  (        '::;;+;;:      `-\"' =\" /,`\"\" `) /\n",
      "  L.        \\`:::a:f            c_/     n_'\n",
      "  ..`--...___`.  .    ,  \n",
      "   `^-....____:   +.      www.gwoptics.org/pykat\n",
      "\n"
     ]
    }
   ],
   "source": [
    "import numpy as np                         # Importing numpy\n",
    "import matplotlib                          # Importing matplotlib, so we can plot figures\n",
    "import matplotlib.pyplot as plt                   \n",
    "from pykat import finesse                  # Importing the pykat.finesse package\n",
    "from pykat.commands import *               # Importing all packages in pykat.commands.\n",
    "from IPython.display import display, HTML  # Allows us to display HTML.\n",
    "\n",
    "# Telling the notebook to make plots inline.\n",
    "%matplotlib inline      \n",
    "# Initialises the PyKat plotting tool.\n",
    "pykat.init_pykat_plotting(dpi=90)          "
   ]
  },
  {
   "cell_type": "markdown",
   "metadata": {},
   "source": [
    "## 2.2 Optical Layout"
   ]
  },
  {
   "cell_type": "markdown",
   "metadata": {},
   "source": [
    "Below is the optical layout of a simple Michelson. The laser beam is splitted by the beam splitter (BS) and propagates in both X and Y arms. Gravitational wave detectors are calibrated such that when the two beams are recombined at the beam splitter, they interfere (close to) destructively at the output port. Mirror movements or gravitational waves change the differential arm lenghth $\\Delta L = L_y - L_x$, which produces a signal at the output port where we place a photodiode. See section 5.2 in the review article if you want a longer description of the Michelson interferometer."
   ]
  },
  {
   "cell_type": "code",
   "execution_count": 4,
   "metadata": {
    "collapsed": false
   },
   "outputs": [
    {
     "data": {
      "text/html": [
       "<img src=\"files/michelson.png\"/>"
      ],
      "text/plain": [
       "<IPython.core.display.Image object>"
      ]
     },
     "metadata": {},
     "output_type": "display_data"
    }
   ],
   "source": [
    "from IPython.display import Image\n",
    "from IPython.core.display import HTML\n",
    "display(Image(url=\"files/michelson.png\"))"
   ]
  },
  {
   "cell_type": "markdown",
   "metadata": {
    "collapsed": false
   },
   "source": [
    "![michelson.png](files/michelson.png)"
   ]
  },
  {
   "cell_type": "code",
   "execution_count": 5,
   "metadata": {
    "collapsed": false
   },
   "outputs": [
    {
     "data": {
      "text/html": [
       "<img src=\"files/michelson.png\" width=400 height=400/>"
      ],
      "text/plain": [
       "<IPython.core.display.HTML object>"
      ]
     },
     "metadata": {},
     "output_type": "display_data"
    }
   ],
   "source": [
    "display(HTML('<img src=\"files/michelson.png\" width=400 height=400/>'))"
   ]
  },
  {
   "cell_type": "markdown",
   "metadata": {},
   "source": [
    "## 2.3.  Lengths and tunings"
   ]
  },
  {
   "cell_type": "markdown",
   "metadata": {},
   "source": [
    "If the beams interfere constructively or destructively at the beam splitter depends on the difference in optical path lengths for the two arms, modulo the laser wavelength. Thus, for the light of a Nd:YAG laser ($\\lambda = 1064$ nm), length differences of less than 1 μm are of interest. Some orders of magnitude:\n",
    "  * LIGO peak senitivity in meters: $\\sim 10^{-20}$ m\n",
    "  * LIGO cavity mirror postion control accuracy: $< 10^{-12}$ m\n",
    "  * LIGO arm cavity length: $\\sim 10^3$ m\n",
    "  * relative numerical accuracy of floating point numbers: $10^{-15}$\n",
    "\n",
    "Therefore, it is convenient to split distances D between optical components into two parameters: one is the macroscopic ‘length’ L defined now as that multiple of the default wavelength $\\lambda_0$ yielding the smallest difference to D. The second parameter is the microscopic tuning that is defined as the remaining difference between L and D. This tuning is usually given as a phase \"phi\" (in radians) with 2π referring to one wavelength. In FINESSE tunings are entered and printed in degrees, so that a tuning of phi = 360 degrees refers to a change in the position of the component by one wavelength ($\\lambda_0$). In FINESSE macroscopical lengths are assigned to space components (keyword `s`) and microscopiacal tunings are assigned to optical components such as mirrors, beam splitters, lenes etc. You can read more about how lengths and tuning are defined in FINESSE in section 2.5 in Freise et al. [1]. "
   ]
  },
  {
   "cell_type": "markdown",
   "metadata": {},
   "source": [
    "## 2.4. Building the FINESSE-model"
   ]
  },
  {
   "cell_type": "markdown",
   "metadata": {
    "collapsed": false
   },
   "source": [
    "Lets build an optical model in FINESSE matching the setup in the figure above."
   ]
  },
  {
   "cell_type": "code",
   "execution_count": 4,
   "metadata": {
    "collapsed": false
   },
   "outputs": [],
   "source": [
    "basekat = finesse.kat()    # Initialising Finesse\n",
    "basekat.verbose = False    # Tells Finesse to talk less\n",
    "\n",
    "basecode = \"\"\"\n",
    "\n",
    "## Parameters ##\n",
    "const Pin 1M         # Laser power [W]\n",
    "const LX 4000        # Length of X arm [m]\n",
    "const LY 4000        # Length of Y arm [m]\n",
    "\n",
    "## Laser & Beam splitter ##\n",
    "l laser $Pin 0 n0                         # Laser\n",
    "s s1 1 n0 nbsc                            # Space from laser to beam splitter\n",
    "bs BS 0.5 0.5 0 45 nbsc nbsY nbsX nbsd    # Central 50/50 beam splitter with 0 tuning and 45 deg angle of incidence.\n",
    "\n",
    "## X arm ##\n",
    "s LX $LX nbsX nmX1         # Space between beam splitter and mirror mX\n",
    "m mX 1 0 0 nmX1 nmX2       # Test mass mirror mX (reflectivity 1, 0 transmissivity, and 0 deg tuning)\n",
    "\n",
    "## Y arm ##\n",
    "s LY $LY nbsY nmY1         # Space between beam slitter and mirror mY\n",
    "m mY 1 0 0 nmY1 nmY2       # Test mass mirror mY (reflectivity 1, 0 transmissivity, and 0 deg tuning)\n",
    "\n",
    "## Output port ##\n",
    "s sout 1 nbsd nout         # Space from BS to a measurement device not yet defined\n",
    "\n",
    "\"\"\"\n",
    "basekat.parseCommands(basecode)  # passing the input text to the Finesse object"
   ]
  },
  {
   "cell_type": "markdown",
   "metadata": {},
   "source": [
    "We call this kat-object *basekat* since it describes the core optics of the system we will investigate throughout this notebook. The above basekat-object will not be altered much throughout the Notebooks about the Michelson interferometer, however, what we measure and the specific simulation instructions will. Therefore we can copy the above basekat objet by using `deepcopy`, and then add on the specific simulation instructions."
   ]
  },
  {
   "cell_type": "markdown",
   "metadata": {},
   "source": [
    "## 2.5. Differential arm length tuning"
   ]
  },
  {
   "cell_type": "markdown",
   "metadata": {},
   "source": [
    "Now we add the simulation instrctions. Here we will look at how the output power varies with differential arm length (DARM) tuning. "
   ]
  },
  {
   "cell_type": "code",
   "execution_count": 43,
   "metadata": {
    "collapsed": false
   },
   "outputs": [],
   "source": [
    "kat1 = deepcopy(basekat)\n",
    "code = \"\"\"\n",
    "\n",
    "## Detectors ##\n",
    "pd pout nout                     # Photo diode at the output port\n",
    "\n",
    "## Simulation instructions ##\n",
    "\n",
    "# Varying the differential arm length\n",
    "xaxis mX phi lin -90 90 200      # Changes the parameter phi of mX from -90 to 90 in 200 linear steps. \n",
    "\n",
    "put mY phi $mx1                  # Puts the negative (m in $mx1 is keyword for minus) value from the \n",
    "                                 # x-axis to the tuning of mY.\n",
    "yaxis abs                        # Outputs the amplitude of their measured quantity.\n",
    "\"\"\"\n",
    "# Parsing the FINESSE code\n",
    "kat1.parseCommands(code)\n",
    "out1 = kat1.run()"
   ]
  },
  {
   "cell_type": "markdown",
   "metadata": {},
   "source": [
    "The line `put mY phi $mx1` Parameters with an `$` are internal variables in Finesse with `$mx1` referring to the current value of the xaxis times (-1). Without the `m` in front of `x1` there would be no factor of (-1). The put command sets the position paramter `phi` of mirror `mY` to this value. Therefore, by using the put command here, we elongate one arm while shortening the other. The star * after `put` adds the value `mx1` to the value already set as the tuning of the mirror `mY`, instead of setting the tuning to be exactly `mx1`."
   ]
  },
  {
   "cell_type": "code",
   "execution_count": 44,
   "metadata": {
    "collapsed": false
   },
   "outputs": [
    {
     "data": {
      "image/png": "[encoded data removed]",
      "text/plain": [
       "<matplotlib.figure.Figure at 0x11209beb8>"
      ]
     },
     "metadata": {},
     "output_type": "display_data"
    }
   ],
   "source": [
    "fig1 = out1.plot(xlabel=\"DARM / 2 [deg]\", \n",
    "                 ylabel=\"Power [W]\", \n",
    "                 title=\"Output power vs. DARM\")"
   ]
  },
  {
   "cell_type": "markdown",
   "metadata": {},
   "source": [
    "## 2.4. Simulation output:"
   ]
  },
  {
   "cell_type": "code",
   "execution_count": 6,
   "metadata": {
    "collapsed": false
   },
   "outputs": [],
   "source": [
    "out1 = kat1.run() # run Finesse, the output will be stored in 'out1'"
   ]
  },
  {
   "cell_type": "markdown",
   "metadata": {},
   "source": [
    "The result of the run is now stored in the object `out1`. We can plot the output by using:"
   ]
  },
  {
   "cell_type": "code",
   "execution_count": 7,
   "metadata": {
    "collapsed": false
   },
   "outputs": [
    {
     "data": {
      "image/png": "[encoded data removed]",
      "text/plain": [
       "<matplotlib.figure.Figure at 0x106d057f0>"
      ]
     },
     "metadata": {},
     "output_type": "display_data"
    }
   ],
   "source": [
    "fig1 = out1.plot()"
   ]
  },
  {
   "cell_type": "markdown",
   "metadata": {},
   "source": [
    "To add units on the y-axis we can use:"
   ]
  },
  {
   "cell_type": "code",
   "execution_count": 8,
   "metadata": {
    "collapsed": false
   },
   "outputs": [
    {
     "data": {
      "image/png": "[encoded data removed]",
      "text/plain": [
       "<matplotlib.figure.Figure at 0x106d529e8>"
      ]
     },
     "metadata": {},
     "output_type": "display_data"
    }
   ],
   "source": [
    "fig1b = out1.plot(show=False)\n",
    "fig1b.axes[0].set_ylabel('Power [W]')\n",
    "plt.show(fig1b)"
   ]
  },
  {
   "cell_type": "markdown",
   "metadata": {},
   "source": [
    "# 3. Your tasks: "
   ]
  },
  {
   "cell_type": "markdown",
   "metadata": {},
   "source": [
    "## 3.1. Calibrate the operating point"
   ]
  },
  {
   "cell_type": "markdown",
   "metadata": {},
   "source": [
    "We currently have a power peak for zero differential arm length tuning. Change **one** parameter in the setup to make zero differential arm length tuning yield zero power. Save this parameter in `basekat`. Discuss why we want to operate at, or close to, the dark fringe?\n",
    "\n",
    "**Answer:**"
   ]
  },
  {
   "cell_type": "code",
   "execution_count": 9,
   "metadata": {
    "collapsed": false
   },
   "outputs": [
    {
     "data": {
      "image/png": "[encoded data removed]",
      "text/plain": [
       "<matplotlib.figure.Figure at 0x106fbbd30>"
      ]
     },
     "metadata": {},
     "output_type": "display_data"
    }
   ],
   "source": [
    "kat2 = deepcopy(kat1)\n",
    "kat2.mY.phi = 90\n",
    "out2 = kat2.run() # run Finesse, the output will be stored in 'out'\n",
    "fig2 = out2.plot(show=False)\n",
    "fig2.axes[0].set_ylabel('Power [W]')\n",
    "plt.show(fig2)"
   ]
  },
  {
   "cell_type": "markdown",
   "metadata": {},
   "source": [
    "## 3.2. Question about operating point "
   ]
  },
  {
   "cell_type": "markdown",
   "metadata": {},
   "source": [
    "By looking at how the detected power changes as a function of differential arm length tuning (mimics GW signal), try to answer why we cannot operate exactly at the dark fringe?  *Hint: See sections 4 and 5.4 in the review article.*\n",
    "\n",
    "** Answer: **"
   ]
  },
  {
   "cell_type": "markdown",
   "metadata": {},
   "source": [
    "* We need a local oscillator to amplify the gravitational wave signal. More on this later.\n",
    "* To control the differential arm length we need $\\mathrm{d}P/\\mathrm{d}\\phi \\neq 0$ at the operating point."
   ]
  },
  {
   "cell_type": "markdown",
   "metadata": {},
   "source": [
    "## 3.3. Setting the operating point"
   ]
  },
  {
   "cell_type": "markdown",
   "metadata": {},
   "source": [
    "Change the tuning slightly of one of the arm mirrors so that we get 10 mW as output, and save this detuning in `basekat`. What length offset does this tuning offset corresponds to? Why not a larger number than 10 mW?\n",
    "\n",
    "**Comment**: In case you want to use a <a href=\"http://docs.scipy.org/doc/scipy/reference/optimize.html\">`scipy.optimize`</a> tool (I would suggest `scipy.optimize.minimize_scalar()` in that case), Finesse can be told to compute results for one data point per run by setting `kat.noxaxis=True`."
   ]
  },
  {
   "cell_type": "markdown",
   "metadata": {},
   "source": [
    "**Answer:**"
   ]
  },
  {
   "cell_type": "code",
   "execution_count": 10,
   "metadata": {
    "collapsed": false
   },
   "outputs": [
    {
     "name": "stdout",
     "output_type": "stream",
     "text": [
      "Tuning: 89.76393202250021 \t \t Power: 16.9756509272533\n",
      "Tuning: 90.23606797749979 \t \t Power: 16.9756509272523\n",
      "Tuning: 90.52786404500041 \t \t Power: 84.8763334891159\n",
      "Tuning: 90.0 \t \t Power: 3.74939945665464e-27\n",
      "Tuning: 90.00000466824906 \t \t Power: 6.63839011767411e-09\n",
      "Tuning: 90.0000093364982 \t \t Power: 2.65535609248452e-08\n",
      "Tuning: 90.09017571402269 \t \t Power: 2.47704305961049\n",
      "Tuning: 90.0344498280701 \t \t Power: 0.361517063301683\n",
      "Tuning: 90.01316443368941 \t \t Power: 0.0527909029152963\n",
      "Tuning: 90.00503413649993 \t \t Power: 0.00771977617097237\n",
      "Tuning: 90.00813963368768 \t \t Power: 0.020182011687528\n",
      "Tuning: 90.00311483368594 \t \t Power: 0.00295545574337605\n",
      "Tuning: 90.00622033087369 \t \t Power: 0.0117864143969354\n",
      "Tuning: 90.005940108013 \t \t Power: 0.010748390041197\n",
      "Tuning: 90.00567299830594 \t \t Power: 0.00980347490610781\n",
      "Tuning: 90.00542897481016 \t \t Power: 0.00897822297713017\n",
      "Tuning: 90.00570963238332 \t \t Power: 0.00993049798522599\n",
      "Tuning: 90.0057635257286 \t \t Power: 0.0101188511201952\n",
      "Tuning: 90.00572712278269 \t \t Power: 0.00999143164769061\n",
      "Tuning: 90.00573279074338 \t \t Power: 0.0100112178708135\n",
      "Tuning: 90.00572245444867 \t \t Power: 0.00997514970936975\n",
      " success: True\n",
      "     fun: 8.568352309390459e-06\n",
      "       x: 90.005727122782687\n",
      "    nfev: 21\n",
      " message: 'Solution found.'\n",
      "  status: 0\n",
      "Detuning: 16.927 pm\n"
     ]
    }
   ],
   "source": [
    "kat3 = deepcopy(basekat)\n",
    "# Adding photo diode\n",
    "kat3.parseCommands('pd pout nout')\n",
    "# Using no x-axis, meaning only one value will be computed.\n",
    "kat3.noxaxis = True\n",
    "\n",
    "def f(x):\n",
    "    kat3.mY.phi = x\n",
    "    out3 = kat3.run()\n",
    "    print('Tuning: {0} \\t \\t Power: {1}'.format(x, out3['pout']))\n",
    "    # print(out['pout'],x,np.abs(out['pout'] - 0.01), kat.mY.phi.value)\n",
    "    return np.abs(out3['pout'] - 0.01)\n",
    "\n",
    "import scipy.optimize as op\n",
    "\n",
    "#help(op.minimize_scalar)\n",
    "sol = op.minimize_scalar(f,method='Bounded',bounds=(89,91))\n",
    "print(sol)\n",
    "detuning = sol.x\n",
    "basekat.mY.phi = detuning\n",
    "\n",
    "print('Detuning: {:.3f} pm'.format(1.0e12*(detuning-90)*kat3.lambda0/360.0))"
   ]
  },
  {
   "cell_type": "markdown",
   "metadata": {
    "collapsed": true
   },
   "source": [
    "# 4. Extra if you have time. \n",
    "\n",
    "## 4.1. Question about assymetry \n",
    "\n",
    "**(a)** Exploring asymmetry, change the beam splitter to be not 50:50. Run the above simulatin again but with different reflectivities for the beam splitter. Plot the results and describe the effects of the BS asymmetry on Michelson output signal. Hint: use for example `kat.BS.R = 0.7` and `kat.BS.T = 0.3` to set it to a 70:30 beam splitter.\n",
    "\n",
    "**Answer:**"
   ]
  },
  {
   "cell_type": "code",
   "execution_count": 11,
   "metadata": {
    "collapsed": false
   },
   "outputs": [],
   "source": [
    "kat4 = deepcopy(basekat)\n",
    "code = '''\n",
    "pd pout nbsd                     # Photo diode at the dark port\n",
    "\n",
    "ad Xarm 0 nbsX*\n",
    "ad Yarm 0 nbsY*\n",
    "\n",
    "xaxis mX phi lin -60 60 200\n",
    "put* mY phi $mx1\n",
    "\n",
    "yaxis abs\n",
    "'''\n",
    "\n",
    "kat4.parseKatCode(code)\n",
    "kat4.BS.R=0.2\n",
    "kat4.BS.T=0.8\n",
    "out4a = kat4.run()\n",
    "kat4.BS.R=0.4\n",
    "kat4.BS.T=0.6\n",
    "out4b = kat4.run()\n",
    "kat4.BS.R=0.6\n",
    "kat4.BS.T=0.4\n",
    "out4c = kat4.run()\n",
    "kat4.BS.R=0.8\n",
    "kat4.BS.T=0.2\n",
    "out4d = kat4.run()"
   ]
  },
  {
   "cell_type": "code",
   "execution_count": 12,
   "metadata": {
    "collapsed": false
   },
   "outputs": [
    {
     "data": {
      "image/png": "[encoded data removed]",
      "text/plain": [
       "<matplotlib.figure.Figure at 0x110fb9e48>"
      ]
     },
     "metadata": {},
     "output_type": "display_data"
    }
   ],
   "source": [
    "plt.figure(figsize=(14,4))\n",
    "plt.plot(out4a.x,out4a['pout'],'-', color='r',label='BS 20:80')\n",
    "plt.plot(out4b.x,out4b['pout'],'-', color = 'g', label='BS 40:60')\n",
    "plt.plot(out4c.x,out4c['pout'],'--',color='b', label='BS 60:40')\n",
    "plt.plot(out4d.x,out4d['pout'],'-.',color='k', label='BS 80:20')\n",
    "plt.title(r'Michelson example: output power with BS asymmetry')\n",
    "plt.xlabel('Differental arm length change [deg]')\n",
    "plt.xlim([min(out4a.x),max(out4a.x)])\n",
    "plt.legend(loc=4)\n",
    "plt.ylabel('Power [W]')\n",
    "plt.grid(True)"
   ]
  },
  {
   "cell_type": "markdown",
   "metadata": {},
   "source": [
    "**(b)** Exploring asymmetry: change the reflectivity of the mX end mirror and run the simulation again.\n",
    "\n",
    "** Answer: **"
   ]
  },
  {
   "cell_type": "code",
   "execution_count": 13,
   "metadata": {
    "collapsed": false
   },
   "outputs": [
    {
     "ename": "NameError",
     "evalue": "name 'kat' is not defined",
     "output_type": "error",
     "traceback": [
      "\u001b[0;31m---------------------------------------------------------------------------\u001b[0m",
      "\u001b[0;31mNameError\u001b[0m                                 Traceback (most recent call last)",
      "\u001b[0;32m<ipython-input-13-1b75328be432>\u001b[0m in \u001b[0;36m<module>\u001b[0;34m()\u001b[0m\n\u001b[1;32m     14\u001b[0m \u001b[0mkat5\u001b[0m\u001b[0;34m.\u001b[0m\u001b[0mmX\u001b[0m\u001b[0;34m.\u001b[0m\u001b[0mR\u001b[0m\u001b[0;34m=\u001b[0m\u001b[0;36m1\u001b[0m\u001b[0;34m\u001b[0m\u001b[0m\n\u001b[1;32m     15\u001b[0m \u001b[0mout5a\u001b[0m \u001b[0;34m=\u001b[0m \u001b[0mkat5\u001b[0m\u001b[0;34m.\u001b[0m\u001b[0mrun\u001b[0m\u001b[0;34m(\u001b[0m\u001b[0;34m)\u001b[0m\u001b[0;34m\u001b[0m\u001b[0m\n\u001b[0;32m---> 16\u001b[0;31m \u001b[0mkat\u001b[0m\u001b[0;34m.\u001b[0m\u001b[0mmX\u001b[0m\u001b[0;34m.\u001b[0m\u001b[0mR\u001b[0m\u001b[0;34m=\u001b[0m\u001b[0;36m0.6\u001b[0m\u001b[0;34m\u001b[0m\u001b[0m\n\u001b[0m\u001b[1;32m     17\u001b[0m \u001b[0mout5b\u001b[0m \u001b[0;34m=\u001b[0m \u001b[0mkat5\u001b[0m\u001b[0;34m.\u001b[0m\u001b[0mrun\u001b[0m\u001b[0;34m(\u001b[0m\u001b[0;34m)\u001b[0m\u001b[0;34m\u001b[0m\u001b[0m\n\u001b[1;32m     18\u001b[0m \u001b[0mkat5\u001b[0m\u001b[0;34m.\u001b[0m\u001b[0mmX\u001b[0m\u001b[0;34m.\u001b[0m\u001b[0mR\u001b[0m\u001b[0;34m=\u001b[0m\u001b[0;36m0.1\u001b[0m\u001b[0;34m\u001b[0m\u001b[0m\n",
      "\u001b[0;31mNameError\u001b[0m: name 'kat' is not defined"
     ]
    }
   ],
   "source": [
    "kat5 = deepcopy(basekat)\n",
    "code = \"\"\"\n",
    "pd pout nbsd\n",
    "\n",
    "ad Xarm 0 nbsX*\n",
    "ad Yarm 0 nbsY*\n",
    "\n",
    "xaxis mX phi lin -60 60 200\n",
    "put* mY phi $mx1\n",
    "\n",
    "yaxis abs\n",
    "\"\"\"\n",
    "kat5.parseKatCode(code)\n",
    "kat5.mX.R=1\n",
    "out5a = kat5.run()\n",
    "kat.mX.R=0.6\n",
    "out5b = kat5.run()\n",
    "kat5.mX.R=0.1\n",
    "out5c = kat5.run()\n",
    "kat5.mX.R=0.0\n",
    "out5d = kat5.run()"
   ]
  },
  {
   "cell_type": "code",
   "execution_count": null,
   "metadata": {
    "collapsed": false
   },
   "outputs": [],
   "source": [
    "plt.figure(figsize=(14,4))\n",
    "plt.plot(out5a.x,out5a['pout'],'-', color = 'r', label='mX R=1.0')\n",
    "plt.plot(out5b.x,out5b['pout'],'-', color = 'g', label='mX R=0.6')\n",
    "plt.plot(out5c.x,out5c['pout'],'--',color = 'b', label='mX R=0.1')\n",
    "plt.plot(out5d.x,out5d['pout'],'-.',color = 'k', label='mX R=0.0')\n",
    "plt.title(r'Michelson example: output power with different mX reflextivies')\n",
    "plt.xlabel('Differental arm length change [deg]')\n",
    "plt.xlim([min(out5a.x),max(out5a.x)])\n",
    "plt.legend(loc=1)\n",
    "plt.ylabel('Power [W]')\n",
    "plt.grid(True)"
   ]
  },
  {
   "cell_type": "code",
   "execution_count": 15,
   "metadata": {
    "collapsed": false
   },
   "outputs": [
    {
     "name": "stdout",
     "output_type": "stream",
     "text": [
      "% Generated by PyKat 08.01.2016 14:08:26\n",
      "\n",
      "l l1 1000000.0 0.0 0.0 n0\n",
      "s s1 1.0 n0 nbsc\n",
      "bs BS 0.5 0.5 0.0 45.0 nbsc nbsY nbsX nbsd\n",
      "s LX 4000.0 nbsX nmX1\n",
      "m mX 1.0 0.0 0.0 nmX1 nmX2\n",
      "s LY 4000.08 nbsY nmY1\n",
      "m mY 1.0 0.0 90.00572712278269 nmY1 nmY2\n",
      "s sout 1.0 nbsd nout\n",
      "pd0 pout nbsd\n",
      "ad Xarm 0 nbsX*\n",
      "ad Yarm 0 nbsY*\n",
      "xaxis mX phi lin -60 60 200\n",
      "put* mY phi $mx1\n",
      "yaxis lin abs\n"
     ]
    }
   ],
   "source": [
    "show_finesse(kat5)"
   ]
  },
  {
   "cell_type": "code",
   "execution_count": null,
   "metadata": {
    "collapsed": true
   },
   "outputs": [],
   "source": []
  }
 ],
 "metadata": {
  "kernelspec": {
   "display_name": "Python 3",
   "language": "python",
   "name": "python3"
  },
  "language_info": {
   "codemirror_mode": {
    "name": "ipython",
    "version": 3
   },
   "file_extension": ".py",
   "mimetype": "text/x-python",
   "name": "python",
   "nbconvert_exporter": "python",
   "pygments_lexer": "ipython3",
   "version": "3.4.3"
  }
 },
 "nbformat": 4,
 "nbformat_minor": 0
}
