{
 "cells": [
  {
   "cell_type": "markdown",
   "metadata": {},
   "source": [
    "# <span style=\"color:#1111AA\">Free spectral range</span>"
   ]
  },
  {
   "cell_type": "markdown",
   "metadata": {},
   "source": [
    "## Table of Contents"
   ]
  },
  {
   "cell_type": "markdown",
   "metadata": {},
   "source": [
    "# 1. Overview"
   ]
  },
  {
   "cell_type": "markdown",
   "metadata": {},
   "source": [
    "## 1.1. Introduction"
   ]
  },
  {
   "cell_type": "code",
   "execution_count": null,
   "metadata": {
    "collapsed": true
   },
   "outputs": [],
   "source": []
  },
  {
   "cell_type": "markdown",
   "metadata": {},
   "source": [
    "## 1.2. Prerequisites and reading material"
   ]
  },
  {
   "cell_type": "markdown",
   "metadata": {},
   "source": [
    "We recommend that you have done the following notebook before you do this one:\n",
    "* [02_01_01_Resonance_length_tuning](02_01_01_resonance_length_tuning.ipynb)\n",
    "    * [01_03_01_Finesse](../../01_Introduction/01_03_Finesse/01_03_01_Finesse.ipynb)\n",
    "    * [01_02_01_Pykat](../../01_Introduction/01_02_Pykat/01_02_01_Pykat.ipynb)\n",
    "    * [01_01_01_Ipython_notebook](../../01_Introduction/01_01_Ipython_notebook)\n",
    "\n",
    "\n",
    "\n",
    "or have corresponding knowledge about the longitidinal resonance condition and how it is handled by FINESSE. The links above only works if you started ipython notebook in the top directory of this course.\n",
    "\n",
    "**Reading material and references:**\n",
    "\n",
    "[1] [A. Freise, K. Strain, D. Brown, and C. Bond, \"Interferometer Techniques for Gravitational-Wave Detection\", *Living Reviews in Relativity* **13**, 1 (2010)](http://arxiv.org/pdf/0909.3661v3).\n",
    "\n",
    "[2] [A. Freise, D. Brown, and C. Bond, \"Finesse, Frequency domain INterferomEter Simulation SoftwarE\"](http://kvasir.sr.bham.ac.uk/redmine/attachments/download/131/Finesse_2.0_manual.pdf).\n",
    "\n",
    "[3] [FINESSE syntax reference](http://www.gwoptics.org/finesse/reference/)"
   ]
  },
  {
   "cell_type": "markdown",
   "metadata": {},
   "source": [
    "## 1.3. After this session you will be able to..."
   ]
  },
  {
   "cell_type": "markdown",
   "metadata": {},
   "source": []
  },
  {
   "cell_type": "markdown",
   "metadata": {},
   "source": [
    "## 2. Free Spectral Range"
   ]
  },
  {
   "cell_type": "markdown",
   "metadata": {},
   "source": [
    "The distance between two resonance peaks (in Hz) is called the *free spectral range* (FSR) of the cavity. The FSR is often an important property of a cavity since it says how well separated the resonance peaks are. The FSR is related to the width of the peak through the cavity Finesse, which are two concepts that will be handledin the next two notebooks.\n",
    "\n",
    "The widht of the peak, here defined as the full width at half maximum (FWHM), of a peak is the *linewidth* of a cavity. Use Finesse and Pykat to 'measure' the FSR and linewidth of this example cavity."
   ]
  },
  {
   "cell_type": "markdown",
   "metadata": {},
   "source": [
    "The distance between two resonance peaks (in Hz) is called the *free spectral range* (FSR) of the cavity. The width (full width at half maximum) of a peak is the *linewidth* of a cavity. Use Finesse and Pykat to 'measure' the FSR and linewidth of this example cavity.\n",
    "\n",
    "Tips: \n",
    "  * for the FSR computation, use the function `scipy.optimize.minimize_scalar` to find two peaks of the transmitted power\n",
    "  * for the linewidth computation, use the function `scipy.optimize.bisect` to find the point at which the transmitted power is half the maximum transmitted power\n",
    "  * each of the scipy functions require as their first argument a function name, so first define a function, e.g. like this (not exactly in this form, you need to do a small change for your tasks):\n",
    "```python\n",
    "def my_function(x):\n",
    "        kat.laser.f = x\n",
    "        out=kat.run()\n",
    "        return out['trans']\n",
    "```\n",
    "\n",
    "In the Finesse code you can replace the `xaxis` command with `noxaxis` so that a call to `kat.run()` returns only one value.\n",
    "\n",
    "And then you can call the scipy functions, e.g. as:\n",
    "\n",
    "```python\n",
    "import scipy\n",
    "scipy.optimize.minimize_scalar(my_function, ...)\n",
    "```"
   ]
  },
  {
   "cell_type": "markdown",
   "metadata": {},
   "source": [
    "We use the example above and just replace the `xaxis` command with `noxaxis`:"
   ]
  },
  {
   "cell_type": "code",
   "execution_count": 3,
   "metadata": {
    "collapsed": false
   },
   "outputs": [
    {
     "ename": "NameError",
     "evalue": "name 'finesse' is not defined",
     "output_type": "error",
     "traceback": [
      "\u001b[0;31m---------------------------------------------------------------------------\u001b[0m",
      "\u001b[0;31mNameError\u001b[0m                                 Traceback (most recent call last)",
      "\u001b[0;32m<ipython-input-3-0683f4294cd3>\u001b[0m in \u001b[0;36m<module>\u001b[0;34m()\u001b[0m\n\u001b[0;32m----> 1\u001b[0;31m \u001b[0mkat\u001b[0m\u001b[0;34m=\u001b[0m\u001b[0mfinesse\u001b[0m\u001b[0;34m.\u001b[0m\u001b[0mkat\u001b[0m\u001b[0;34m(\u001b[0m\u001b[0;34m)\u001b[0m \u001b[0;31m# initialising Finesse\u001b[0m\u001b[0;34m\u001b[0m\u001b[0m\n\u001b[0m\u001b[1;32m      2\u001b[0m \u001b[0mkat\u001b[0m\u001b[0;34m.\u001b[0m\u001b[0mverbose\u001b[0m \u001b[0;34m=\u001b[0m \u001b[0;32mFalse\u001b[0m\u001b[0;34m\u001b[0m\u001b[0m\n\u001b[1;32m      3\u001b[0m code = \"\"\"\n\u001b[1;32m      4\u001b[0m \u001b[0ml\u001b[0m \u001b[0mlaser\u001b[0m \u001b[0;36m2\u001b[0m \u001b[0;36m0\u001b[0m \u001b[0mn0\u001b[0m  \u001b[0;31m# a laser with 1W of power at the default wavelength of 1064nm\u001b[0m\u001b[0;34m\u001b[0m\u001b[0m\n\u001b[1;32m      5\u001b[0m \u001b[0ms\u001b[0m \u001b[0ms1\u001b[0m \u001b[0;36m1\u001b[0m \u001b[0mn0\u001b[0m \u001b[0mn1\u001b[0m \u001b[0;31m# empty space of 1m length\u001b[0m\u001b[0;34m\u001b[0m\u001b[0m\n",
      "\u001b[0;31mNameError\u001b[0m: name 'finesse' is not defined"
     ]
    }
   ],
   "source": [
    "kat=finesse.kat() # initialising Finesse\n",
    "kat.verbose = False\n",
    "code = \"\"\"\n",
    "l laser 2 0 n0  # a laser with 1W of power at the default wavelength of 1064nm   \n",
    "s s1 1 n0 n1 # empty space of 1m length\n",
    "bs bs1 0.5 0.5 0 0 n1 n2 n3 n4\n",
    "s s2 1 n3 nc1\n",
    "\n",
    "m m1 0.8 0.2 0 nc1 nc2\n",
    "s sL 3000 nc2 nc3\n",
    "m m2 0.9 0.1 0 nc3 nc4\n",
    "\n",
    "pd trans nc4\n",
    "pd refl n4\n",
    "\n",
    "noxaxis \n",
    "\n",
    "yaxis abs \n",
    "\"\"\"\n",
    "kat.parseKatCode(code) # passing the input text to the Finesse object\n",
    "out = kat.run() # run Finesse, the output will be stored in 'out'"
   ]
  },
  {
   "cell_type": "markdown",
   "metadata": {},
   "source": [
    "We need to import the scipy package:"
   ]
  },
  {
   "cell_type": "code",
   "execution_count": 2,
   "metadata": {
    "collapsed": true
   },
   "outputs": [],
   "source": [
    "import scipy.optimize"
   ]
  },
  {
   "cell_type": "markdown",
   "metadata": {},
   "source": [
    "We define a function which returns the transmitted power as a function of laser frequency:"
   ]
  },
  {
   "cell_type": "code",
   "execution_count": null,
   "metadata": {
    "collapsed": true
   },
   "outputs": [],
   "source": [
    "# defining a function we can use in a optimiser for peak finding\n",
    "def kat_frs(x):\n",
    "    kat.laser.f = x\n",
    "    out=kat.run()\n",
    "    return -1.0*out['trans']"
   ]
  },
  {
   "cell_type": "markdown",
   "metadata": {},
   "source": [
    "The small change to the definition given as a tip above is the minus sign in the `return` statement: It was suggested to use the function `scipy.optimize.minimize_scalar`, which can only *minimise*. Therefore, in order to find peaks we have to define our function such that the peaks become negative dips. We do a quick test if the function works:"
   ]
  },
  {
   "cell_type": "code",
   "execution_count": null,
   "metadata": {
    "collapsed": true
   },
   "outputs": [],
   "source": [
    "kat_frs(10e3) # testing if it works"
   ]
  },
  {
   "cell_type": "markdown",
   "metadata": {},
   "source": [
    "And now we can use scipy to find two peaks. We only need to provide approximate ranges in which the peaks should be found.\n",
    "\n",
    "(The functions below will give a warning about tolerances that we can ignore.)"
   ]
  },
  {
   "cell_type": "code",
   "execution_count": null,
   "metadata": {
    "collapsed": true
   },
   "outputs": [],
   "source": [
    "# Computing FRS\n",
    "res1=scipy.optimize.minimize_scalar(kat_frs, bounds=(-4, 7), method='bounded',tol=1e-10)\n",
    "res2=scipy.optimize.minimize_scalar(kat_frs, bounds=(-60000, -40000), method='bounded',tol=1e-10)\n",
    "FSR=res1.x-res2.x\n",
    "print (\"The free spectral range of the cavity is FSR = {0:.0f} Hz\".format(FSR))"
   ]
  },
  {
   "cell_type": "markdown",
   "metadata": {},
   "source": [
    "In order to measure the linewidth we have to use a slightly different method. The linewidth 'full width at half maximum' (FWHM) is defined as two times the frequency difference between the peak and the point at which the height of the peak has dropped to 0.5 the maximum.\n",
    "\n",
    "To find that point we can use a root finding algorithm. We need to define a new function that has a root (zero-crossing) at the 'power equals half maximum' point:"
   ]
  },
  {
   "cell_type": "code",
   "execution_count": null,
   "metadata": {
    "collapsed": true
   },
   "outputs": [],
   "source": [
    "# For the linewidth, we define a new function we can use in a optimiser for root finding\n",
    "peak_value=-1.0*res1['fun']\n",
    "def kat_line(x):\n",
    "    kat.laser.f = x\n",
    "    out=kat.run()\n",
    "    return out['trans']-0.5*peak_value # this function is zero when out = 0.5 * max(out)"
   ]
  },
  {
   "cell_type": "code",
   "execution_count": null,
   "metadata": {
    "collapsed": true
   },
   "outputs": [],
   "source": [
    "kat_line(500) # testing"
   ]
  },
  {
   "cell_type": "markdown",
   "metadata": {},
   "source": [
    "And now we use the `bisect` method to find the exact frequency at which the zero occurs. We knoe the peak is at 0 Hz, so the linewidth can be computed as twice the zero-crossing frequency:"
   ]
  },
  {
   "cell_type": "code",
   "execution_count": null,
   "metadata": {
    "collapsed": true
   },
   "outputs": [],
   "source": [
    "# using the bisection method to find the root:\n",
    "(lw, info)=scipy.optimize.bisect(kat_line,1.0,10000.0, xtol=1e-8, maxiter=500, full_output=True)\n",
    "print(\"The cavity linewidth (FWHM) is = {0:.0f} Hz\".format(2*lw)) # we know the peak is at 0 Hz"
   ]
  },
  {
   "cell_type": "code",
   "execution_count": null,
   "metadata": {
    "collapsed": true
   },
   "outputs": [],
   "source": []
  }
 ],
 "metadata": {
  "kernelspec": {
   "display_name": "Python 3",
   "language": "python",
   "name": "python3"
  },
  "language_info": {
   "codemirror_mode": {
    "name": "ipython",
    "version": 3
   },
   "file_extension": ".py",
   "mimetype": "text/x-python",
   "name": "python",
   "nbconvert_exporter": "python",
   "pygments_lexer": "ipython3",
   "version": "3.5.1"
  }
 },
 "nbformat": 4,
 "nbformat_minor": 0
}
