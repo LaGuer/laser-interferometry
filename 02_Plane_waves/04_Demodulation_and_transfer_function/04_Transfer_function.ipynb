{
 "cells": [
  {
   "cell_type": "markdown",
   "metadata": {},
   "source": [
    "# 6. Transfer functions"
   ]
  },
  {
   "cell_type": "code",
   "execution_count": 2,
   "metadata": {
    "collapsed": false
   },
   "outputs": [
    {
     "name": "stdout",
     "output_type": "stream",
     "text": [
      "                                              ..-\n",
      "    PyKat 0.8.3           _                  '(\n",
      "                          \\`.|\\.__...-\"\"\"\"-_.\" )\n",
      "       ..+-----.._        /  ' `            .-'\n",
      "   . '            `:      7/* _/._\\    \\   (\n",
      "  (        '::;;+;;:      `-\"' =\" /,`\"\" `) /\n",
      "  L.        \\`:::a:f            c_/     n_'\n",
      "  ..`--...___`.  .    ,  \n",
      "   `^-....____:   +.      www.gwoptics.org/pykat\n",
      "\n",
      "Imported matplotlib.pyplot as plt\n",
      "Imported numpy as np\n"
     ]
    },
    {
     "data": {
      "text/html": [
       "\n",
       "<style>\n",
       "div.html_cell_render{\n",
       "}\n",
       "\t\t\n",
       ".rendered_html pre,\n",
       ".rendered_html code {\n",
       "}\n",
       "\n",
       "div.text_cell_render {\n",
       "font-family: \"Helvetica Neue\", Arial, Helvetica, Geneva, sans-serif;\n",
       "/*font-family: \"Charis SIL\", serif;  Make non-code text serif. */\n",
       "line-height: 145%; /* added for some line spacing of text. */\n",
       "width: 105ex; /* instead of 'inherit' for shorter lines */\n",
       "font-size: 12pt;\n",
       "}\n",
       "\n",
       "div.text_cell_render h1,\n",
       "div.text_cell_render h2,\n",
       "div.text_cell_render h3,\n",
       "div.text_cell_render h4,\n",
       "div.text_cell_render h5,\n",
       "div.text_cell_render h6 {\n",
       "/*    font-family: 'Kameron';*/\n",
       "    font-weight: 300;\n",
       "}\n",
       "\n",
       "div.text_cell_render h1 {\n",
       "    font-size: 24pt;\n",
       "}\n",
       "\n",
       "div.text_cell_render h2 {\n",
       "    font-size: 18pt;\n",
       "}\n",
       "\n",
       "div.text_cell_render h3 {\n",
       "    font-size: 14pt;\n",
       "}\n",
       "\n",
       ".rendered_html pre,\n",
       ".rendered_html code {\n",
       "    font-size: medium;\n",
       "}\n",
       "\n",
       ".rendered_html ol {\n",
       "    list-style:decimal;\n",
       "    margin: 1em 2em;\n",
       "}\n",
       "\n",
       "\n",
       "div.cell.code_cell {\n",
       "}\n",
       "</style>\n"
      ],
      "text/plain": [
       "<IPython.core.display.HTML object>"
      ]
     },
     "metadata": {},
     "output_type": "display_data"
    },
    {
     "name": "stdout",
     "output_type": "stream",
     "text": [
      "You can now use 'show_finesse(kat)' to display the Finesse code of a 'kat' object\n"
     ]
    }
   ],
   "source": [
    "%run pykat_notebook_defaults.py\n",
    "pykat.init_pykat_plotting(dpi=90)"
   ]
  },
  {
   "cell_type": "markdown",
   "metadata": {},
   "source": [
    "<img src=\"tf_simple.svg\" width=400 height=400/>"
   ]
  },
  {
   "cell_type": "markdown",
   "metadata": {},
   "source": [
    "<font size=\"2\">**Figure.** The rectangle symbolises a \"black box\"-system that in the frequency domain is characterised by the transfer function $H(\\omega)$. The signal $Y(\\omega)$ is what this black box returns if we give it $X(\\omega)$.</font>"
   ]
  },
  {
   "cell_type": "markdown",
   "metadata": {},
   "source": [
    "A transfer function $H(\\omega)$ describes the linear relation between an input signal $X(\\omega)$ and an output signal $Y(\\omega)$ of a system in the frequency domain: \n",
    "\n",
    "\\begin{align}\n",
    "Y(\\omega) = H(\\omega) X(\\omega)\n",
    "\\end{align}\n",
    "\n",
    "As an example, for the moving mirror case, the system consists of a carrier field that is perfectly reflected by a mirror, and a measurement made by a photo diode at the reference plane. In the time domain our input signal is the mirror motion $x(t)$, and the output signal is the power measured by the photo diode $y(t)$. To get to the frequency domain we can Fourier transform (assuming steady state, otherwise Laplace transform is needed) the input and the output signals to get $X(\\omega) = \\mathcal{F}\\big(x(t)\\big)$ and $Y(\\omega)=\\mathcal{F}\\big(y(t)\\big)$. The output $Y(\\omega)$ is proportional to the amplitude of the beat signal, and the input $X(\\omega)$ is proportional to the mirror motion amplitude. The transfer function tells us how strong beat signal we get per unit mirror motion amplitude, as well as relative phase between the input and output. To find a transfer function in an experiment a network analyser would be used to measure the amplitude and phase of the output relative to the input. Transfer functions are usually presented as Bode diagrams, which will be shown in the example below."
   ]
  },
  {
   "cell_type": "markdown",
   "metadata": {},
   "source": [
    "### Finesse example: Transfer function - power noise $\\to$ photodiode\n",
    "In this example we compute how laser power noise couples into a photodiode. We create the power noise by amplitude modulating the laser field using the command `fsig`, and compute the transfer function by demodulating the photodiode power signal using `pd1`."
   ]
  },
  {
   "cell_type": "code",
   "execution_count": 3,
   "metadata": {
    "collapsed": false
   },
   "outputs": [],
   "source": [
    "kat = finesse.kat()          # Initialising Finesse\n",
    "kat.verbose = False          # Tells Finesse to talk less\n",
    "\n",
    "code = '''\n",
    "l laser 2 0 n0            # Laser with 0 offset wavelength (thus default 1064nm used)\n",
    "s s1 1 n0 n1              # Space from laser to mirror (1 m)\n",
    "fsig sig1 laser amp 1 0   # Laser power fluctuations (freq 1 Hz, phase 0)\n",
    "# Detectors\n",
    "pd DC n1\n",
    "pd1 tf 1 n1\n",
    "\n",
    "xaxis sig1 f log 10k 1G 1000\n",
    "yaxis log abs:deg\n",
    "put tf f $x1\n",
    "'''\n",
    "kat.parseCommands(code)                                  # passing the input text to the Finesse object\n",
    "out = kat.run()"
   ]
  },
  {
   "cell_type": "code",
   "execution_count": 4,
   "metadata": {
    "collapsed": false
   },
   "outputs": [
    {
     "data": {
      "image/png": "[encoded data removed]",
      "text/plain": [
       "<matplotlib.figure.Figure at 0x10a91a2b0>"
      ]
     },
     "metadata": {},
     "output_type": "display_data"
    }
   ],
   "source": [
    "fig = out.plot(title='Bode diagram',\n",
    "               ylabel='$|H(\\omega)|$ $[\\mathrm{W}/\\sqrt{\\mathrm{W}}]$',\n",
    "               detectors=[\"tf\"])"
   ]
  },
  {
   "cell_type": "markdown",
   "metadata": {},
   "source": [
    "<font size=\"2\">**Figure.** The upper part of the Bode diagram is called the frequency response. It shows how the amplitude of the input signal couples into the output signal. Here, it is independent on the frequency. The lower part of a Bode diagram is called the phase response, meaning the phase shift of the output compared to the input. </font>"
   ]
  },
  {
   "cell_type": "markdown",
   "metadata": {},
   "source": [
    "We can see in the figure above than an amplitude fluctuation of 1 $\\sqrt{\\mathrm{W}}$ on a 2 W laser would create a beat signal of 2 W. The frequency response would actaully always be equal to the laser power for this system. The phase response dependens on the frequency since the phase of the beat signal varies quicker with increased frequency. The phase response also depends on the length between the laser and the photo diode. \n",
    "\n",
    "You can test the statements above by changing the laser power and the length of the space. "
   ]
  },
  {
   "cell_type": "code",
   "execution_count": null,
   "metadata": {
    "collapsed": true
   },
   "outputs": [],
   "source": []
  }
 ],
 "metadata": {
  "kernelspec": {
   "display_name": "Python 3",
   "language": "python",
   "name": "python3"
  },
  "language_info": {
   "codemirror_mode": {
    "name": "ipython",
    "version": 3
   },
   "file_extension": ".py",
   "mimetype": "text/x-python",
   "name": "python",
   "nbconvert_exporter": "python",
   "pygments_lexer": "ipython3",
   "version": "3.4.3"
  }
 },
 "nbformat": 4,
 "nbformat_minor": 0
}
