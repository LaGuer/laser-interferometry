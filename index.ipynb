{
 "cells": [
  {
   "cell_type": "markdown",
   "metadata": {},
   "source": [
    "# Laser-interferometry and Jupyter Solutions\n",
    "\n",
    "### by Daniel Brown, Andreas Freise, Daniel Töyrä\n",
    "\n",
    "The Github repository containing these notebooks is https://github.com/LaGuer/laser-interferometry.\n",
    "\n",
    "You can view html versions of these notebooks at http://laguer.gitlab.io/laser-interferometry/html/Index.html.\n",
    "\n",
    "Parts I to V of these notebooks will also be published by scientific publication editor as a paperback book, to appear with luck in late 2019.\n",
    "\n",
    "## Contents\n",
    "\n",
    " - [Preface](Preface.ipynb). Describes the aims and goals, and different ways to use the notebooks.\n",
    " \n",
    "## Part I: Introduction\n",
    "\n",
    "  1. [IPython notebook](01_Introduction/01_Getting_Started/01_IPython_notebook.ipynb). Introduces basic ideas with some sample solutions.\n",
    "  2. [Finesse](01_Introduction/01_Getting_Started/02_Finesse.ipynb) Finesse.\n",
    "  3. [Acoustics](01_Introduction/01_Getting_Started/03_Pykat.ipynb) PyKat.\n",
    "  \n",
    "## Part II: Plane waves\n",
    "\n",
    "  1. [Resonance](02_Plane_waves/01_Fabry_Perot_cavity/01_Resonance.ipynb) Resonance.\n",
    "  2. [Impedance](02_Plane_waves/01_Fabry_Perot_cavity/02_Impedance_matched.ipynb) Impedance\n",
    "  3. [Free spectral range](02_Plane_waves/01_Fabry_Perot_cavity/03_Free_spectral_range.ipynb) Free_spectral_range\n",
    "  4. [Linewidth](02_Plane_waves/01_Fabry_Perot_cavity/04_Linewidth.ipynb) Linewidth. \n",
    "  5. [Finesse](02_Plane_waves/01_Fabry_Perot_cavity/05_Finesse.ipynb) Finesse part 2 .\n",
    "  6. [Arm length difference](02_Plane_waves/02_Michelson_interferometer/01_Arm_length_difference.ipynb) Arm_length_difference.\n",
    "  7. [Phase and frequency_modulation](02_Plane_waves/03_Optical_modulation/01_Phase_and_frequency_modulation.ipynb) Phase_and_frequency_modulation.\n",
    "  8. [Amplitude modulation](02_Plane_waves/03_Optical_modulation/02_Amplitude_modulation.ipynb) Amplitude_modulation.\n",
    "  9. [Amplitude modulation](02_Plane_waves/03_Optical_modulation/03_Optical_beat.ipynb) Optical_beat.\n",
    "  10. [Modulation by moving_mirror](02_Plane_waves/03_Optical_modulation/04_Modulation_by_moving_mirror.ipynb) Modulation_by_moving_mirror.\n",
    "  11. [Single demodulation](02_Plane_waves/04_Demodulation/01_Single_demodulation.ipynb) Single_demodulation.\n",
    "  12. [Double demodulation](02_Plane_waves/04_Demodulation/02_Double_demodulation.ipynb) Double_demodulation.\n",
    "  \n",
    "## Part III: Gaussian Beams\n",
    "\n",
    "  1. [Gaussian_beam_parameters](03_Gaussian_beams/01_Beam_parameters/01_Gaussian_beam_parameters.ipynb) Gaussian beam_parameters.\n",
    "  2. [Beat_coefficients](03_Gaussian_beams/02_Photodetectors/01_Beat_coefficients.ipynb) Beat_coefficients.\n",
    "  3. [Free spectral range](03_Gaussian_beams/03_Mirror_maps/01_Phase_maps.ipynb)Phase_maps.\n",
    "  4. [Free spectral range](03_Gaussian_beams/03_Mirror_maps/02_Preprocessing_phase_maps.ipynb)Preprocessing_phase_maps.\n",
    "  5. [Free spectral range](03_Gaussian_beams/03_Mirror_maps/03_Applying_phase_map.ipynb)Applying_phase_map.\n",
    "  \n",
    "## Part IV: Advanced Topics\n",
    "\n",
    "  1. [Gaussian_beam_parameters](04_Advanced_Topics/01_Reduced_Order_Modelling/01_Making_a_reduced_order_model.ipynb) Making_a_reduced_order_model.\n",
    "  2. [Gaussian_beam_parameters](04_Advanced_Topics/02_Parametric_Instabilities/01_Checking_FEM_Normalisation.ipynb) Checking_FEM_Normalisation.\n",
    "\n",
    "  \n",
    "## Part V: Tips and Examples\n",
    "\n",
    "  1. [Plotting](05_Tips_and_Examples/01_Plotting/01_Plotting_examples.ipynb) Plotting examples.\n",
    "  2. [Making a video](05_Tips_and_Examples/01_Plotting/02_Making_a_video.ipynb) Making a video.\n",
    "  3. [Optimising](05_Tips_and_Examples/02_General_modelling/01_Optimising.ipynb) Optimising.\n",
    "  4. [Error comparison](05_Tips_and_Examples/02_General_modelling/02_Comparing_error_signals_and_transfer_functions.ipynb) Comparing_error_signals_and_transfer_functions.\n",
    "\n"
   ]
  },
  {
   "cell_type": "code",
   "execution_count": null,
   "metadata": {},
   "outputs": [],
   "source": []
  }
 ],
 "metadata": {
  "kernelspec": {
   "display_name": "Python 3",
   "language": "python",
   "name": "python3"
  },
  "language_info": {
   "codemirror_mode": {
    "name": "ipython",
    "version": 3
   },
   "file_extension": ".py",
   "mimetype": "text/x-python",
   "name": "python",
   "nbconvert_exporter": "python",
   "pygments_lexer": "ipython3",
   "version": "3.6.5"
  },
  "toc": {
   "base_numbering": 1,
   "nav_menu": {},
   "number_sections": true,
   "sideBar": true,
   "skip_h1_title": false,
   "title_cell": "Table of Contents",
   "title_sidebar": "Contents",
   "toc_cell": false,
   "toc_position": {},
   "toc_section_display": "block",
   "toc_window_display": false
  }
 },
 "nbformat": 4,
 "nbformat_minor": 1
}
