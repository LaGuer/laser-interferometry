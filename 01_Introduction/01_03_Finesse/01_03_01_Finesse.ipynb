{
 "cells": [
  {
   "cell_type": "markdown",
   "metadata": {},
   "source": [
    "# Finesse\n",
    "\n",
    "To explore and learn about interferometry in these series of notebooks we shall be using the freely available software called <a href=\"http://www.gwoptics.org/finesse\">*Finesse*</a>. \n",
    "\n",
    "Finesse is an interferometer simulation tool designed to model the types of interferometers used in gravitational wave detectors. \n",
    "\n",
    "<img style=\"width:50%;\" src=\"finesse_outline.png\" />\n",
    "\n",
    "\n",
    "Here are three links to get you started with Finesse:\n",
    " * <a href=\"http://www.gwoptics.org/finesse/\">Finesse website</a>\n",
    " * <a href=\"http://www.gwoptics.org/finesse/reference/\">Finesse syntax reference</a>\n",
    " * <a href=\"http://kvasir.sr.bham.ac.uk/redmine/attachments/download/131/Finesse_2.0_manual.pdf\">Finesse manual (PDF)</a>"
   ]
  },
  {
   "cell_type": "code",
   "execution_count": null,
   "metadata": {
    "collapsed": true
   },
   "outputs": [],
   "source": []
  }
 ],
 "metadata": {
  "kernelspec": {
   "display_name": "Python 3",
   "language": "python",
   "name": "python3"
  },
  "language_info": {
   "codemirror_mode": {
    "name": "ipython",
    "version": 3
   },
   "file_extension": ".py",
   "mimetype": "text/x-python",
   "name": "python",
   "nbconvert_exporter": "python",
   "pygments_lexer": "ipython3",
   "version": "3.5.1"
  }
 },
 "nbformat": 4,
 "nbformat_minor": 0
}
