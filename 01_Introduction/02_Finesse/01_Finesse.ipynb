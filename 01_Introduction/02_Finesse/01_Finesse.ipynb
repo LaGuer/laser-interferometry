{
 "cells": [
  {
   "cell_type": "markdown",
   "metadata": {},
   "source": [
    "# Finesse\n",
    "\n",
    "To explore and learn about interferometry in these series of notebooks we shall be using the freely available software called <a href=\"http://www.gwoptics.org/finesse\">*Finesse*</a>. \n",
    "\n",
    "Finesse is an interferometer simulation tool designed to model the types of interferometers used in gravitational wave detectors. \n",
    "\n",
    "Here are three links to get you started with Finesse:\n",
    " * <a href=\"http://www.gwoptics.org/finesse/\">Finesse website</a>\n",
    " * <a href=\"http://www.gwoptics.org/finesse/reference/\">Finesse syntax reference</a>\n",
    " * <a href=\"http://kvasir.sr.bham.ac.uk/redmine/attachments/download/131/Finesse_2.0_manual.pdf\">Finesse manual (PDF)</a>\n",
    " \n",
    "On the first link you will find all the links and instructions on how to install Finesse on your machine. It is a native binary available on Windows, OSX and Linux. Listed here are instructions to download the prebuilt binaries or, if you are requiring the very latest features, details on how you can build Finesse from source.\n",
    "\n",
    "The second link is one that is useful for quick reference of the many different Finesse commands there are.\n",
    "\n",
    "Then lastly, the Finesse manual. Rather than repeating the details already described there, it is recommended that you read the introduction and how to use Finesse in the manual. This provides the best description of its capabilities and how to use it.\n",
    "\n",
    "### Overview\n",
    "\n",
    "\n",
    "\n",
    "<img style=\"width:45%; padding:20px;\" src=\"finesse_outline.png\" />\n",
    "\n",
    "\n",
    "\n",
    "\n",
    "### Conclusion\n",
    "\n",
    "A thorough description of Finesse in one notebook is not possible. Therefore at this stage you should have at least installed Finesse and have tested that it runs. You should also have an understanding of what a *Finesse file* is, what the *kat binary* is and that the output of the simulation is all contained in the single outputted text file.\n",
    "\n",
    "**Next notebook:** <a href=\"../03_Pykat/Pykat.ipynb\">Pykat</a>. With Finesse now running on your machine we can begin to look at Pykat, the Python wrapper for Finesse and how we can interact with Finesse from these notebooks."
   ]
  },
  {
   "cell_type": "code",
   "execution_count": null,
   "metadata": {
    "collapsed": true
   },
   "outputs": [],
   "source": []
  }
 ],
 "metadata": {
  "kernelspec": {
   "display_name": "Python 3",
   "language": "python",
   "name": "python3"
  },
  "language_info": {
   "codemirror_mode": {
    "name": "ipython",
    "version": 3
   },
   "file_extension": ".py",
   "mimetype": "text/x-python",
   "name": "python",
   "nbconvert_exporter": "python",
   "pygments_lexer": "ipython3",
   "version": "3.5.1"
  }
 },
 "nbformat": 4,
 "nbformat_minor": 0
}
